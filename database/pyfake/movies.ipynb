{
 "cells": [
  {
   "cell_type": "code",
   "execution_count": 62,
   "metadata": {},
   "outputs": [],
   "source": [
    "# %pip install pandas\n",
    "# %pip install matplotlib\n",
    "# %pip install numpy\n",
    "# %pip install csv"
   ]
  },
  {
   "cell_type": "code",
   "execution_count": 63,
   "metadata": {},
   "outputs": [],
   "source": [
    "import numpy as np\n",
    "import pandas as pd\n",
    "import csv"
   ]
  },
  {
   "cell_type": "code",
   "execution_count": 64,
   "metadata": {},
   "outputs": [],
   "source": [
    "# Importing the dataset\n",
    "dataset = pd.DataFrame(pd.read_csv('./fakedata/2k5data.csv'))"
   ]
  },
  {
   "cell_type": "code",
   "execution_count": 65,
   "metadata": {},
   "outputs": [
    {
     "data": {
      "text/plain": [
       "(1831, 15)"
      ]
     },
     "execution_count": 65,
     "metadata": {},
     "output_type": "execute_result"
    }
   ],
   "source": [
    "dataset.shape"
   ]
  },
  {
   "cell_type": "code",
   "execution_count": 66,
   "metadata": {},
   "outputs": [
    {
     "data": {
      "text/plain": [
       "(1831, 15)"
      ]
     },
     "execution_count": 66,
     "metadata": {},
     "output_type": "execute_result"
    }
   ],
   "source": [
    "dataset = dataset.dropna()\n",
    "dataset.shape"
   ]
  },
  {
   "cell_type": "code",
   "execution_count": 67,
   "metadata": {},
   "outputs": [
    {
     "data": {
      "text/plain": [
       "Index(['id', 'name', 'total_ratings', 'stars', 'genres', 'imdb_link',\n",
       "       'tmdb_link', 'description', 'release_year', 'label', 'duration',\n",
       "       'languages', 'directors', 'cast', 'img_link'],\n",
       "      dtype='object')"
      ]
     },
     "execution_count": 67,
     "metadata": {},
     "output_type": "execute_result"
    }
   ],
   "source": [
    "dataset.columns"
   ]
  },
  {
   "cell_type": "markdown",
   "metadata": {},
   "source": [
    "# Movie"
   ]
  },
  {
   "cell_type": "code",
   "execution_count": 68,
   "metadata": {},
   "outputs": [],
   "source": [
    "data_crawl = pd.read_csv('./fakedata/data_crawl.csv')"
   ]
  },
  {
   "cell_type": "code",
   "execution_count": 69,
   "metadata": {},
   "outputs": [
    {
     "data": {
      "text/plain": [
       "(1831, 15)"
      ]
     },
     "execution_count": 69,
     "metadata": {},
     "output_type": "execute_result"
    }
   ],
   "source": [
    "data_crawl.shape"
   ]
  },
  {
   "cell_type": "code",
   "execution_count": 70,
   "metadata": {},
   "outputs": [
    {
     "name": "stdout",
     "output_type": "stream",
     "text": [
      "<class 'pandas.core.frame.DataFrame'>\n",
      "RangeIndex: 1831 entries, 0 to 1830\n",
      "Data columns (total 15 columns):\n",
      " #   Column         Non-Null Count  Dtype  \n",
      "---  ------         --------------  -----  \n",
      " 0   id             1831 non-null   int64  \n",
      " 1   name           1831 non-null   object \n",
      " 2   total_ratings  1831 non-null   float64\n",
      " 3   stars          1831 non-null   float64\n",
      " 4   genres         1831 non-null   object \n",
      " 5   imdb_link      1831 non-null   object \n",
      " 6   description    1831 non-null   object \n",
      " 7   release_year   1831 non-null   float64\n",
      " 8   label          1831 non-null   object \n",
      " 9   duration       1831 non-null   object \n",
      " 10  languages      1831 non-null   object \n",
      " 11  directors      1831 non-null   object \n",
      " 12  cast           1831 non-null   object \n",
      " 13  img_link       1831 non-null   object \n",
      " 14  video_link     1814 non-null   object \n",
      "dtypes: float64(3), int64(1), object(11)\n",
      "memory usage: 214.7+ KB\n"
     ]
    }
   ],
   "source": [
    "data_crawl.info()"
   ]
  },
  {
   "cell_type": "code",
   "execution_count": 71,
   "metadata": {},
   "outputs": [],
   "source": [
    "\n",
    "# def img_link(x):\n",
    "#     return ' \\'' + str(x) + '\\''\n",
    "# data_crawl['img_link'] = data_crawl['img_link'].apply(img_link)\n",
    "\n",
    "# data_crawl['img_link']"
   ]
  },
  {
   "cell_type": "code",
   "execution_count": 72,
   "metadata": {},
   "outputs": [
    {
     "data": {
      "text/plain": [
       "(1831, 9)"
      ]
     },
     "execution_count": 72,
     "metadata": {},
     "output_type": "execute_result"
    }
   ],
   "source": [
    "movie = data_crawl[['id', 'name', 'description', 'release_year', 'duration',\n",
    "       'directors', 'cast', 'img_link', 'video_link']]\n",
    "\n",
    "# movie = dataset[['id', 'name', 'description', 'release_year', 'duration',\n",
    "#        'directors', 'cast']]\n",
    "movie.shape"
   ]
  },
  {
   "cell_type": "code",
   "execution_count": 73,
   "metadata": {},
   "outputs": [
    {
     "name": "stdout",
     "output_type": "stream",
     "text": [
      "<class 'pandas.core.frame.DataFrame'>\n",
      "RangeIndex: 1831 entries, 0 to 1830\n",
      "Data columns (total 9 columns):\n",
      " #   Column        Non-Null Count  Dtype  \n",
      "---  ------        --------------  -----  \n",
      " 0   id            1831 non-null   int64  \n",
      " 1   name          1831 non-null   object \n",
      " 2   description   1831 non-null   object \n",
      " 3   release_year  1831 non-null   float64\n",
      " 4   duration      1831 non-null   object \n",
      " 5   directors     1831 non-null   object \n",
      " 6   cast          1831 non-null   object \n",
      " 7   img_link      1831 non-null   object \n",
      " 8   video_link    1814 non-null   object \n",
      "dtypes: float64(1), int64(1), object(7)\n",
      "memory usage: 128.9+ KB\n"
     ]
    }
   ],
   "source": [
    "movie.info()"
   ]
  },
  {
   "cell_type": "code",
   "execution_count": 74,
   "metadata": {},
   "outputs": [],
   "source": [
    "def id(x):\n",
    "    return '\\t(' + str(x)\n",
    "\n",
    "def name(x):\n",
    "    return '\\'' + str(x).replace('\\'','\\\\\\'').replace('\\n','\\\\n').replace('\\r','\\\\r').replace('\\t','\\\\t').replace('\\\"','') + '\\''\n",
    "\n",
    "def description(x):\n",
    "    return '\\'' + str(x).replace('\\'','\\\\\\'').replace('\\n','\\\\n').replace('\\r','\\\\r').replace('\\t','\\\\t').replace('\\\"','') + '\\''\n",
    "\n",
    "def release_year(x):\n",
    "    return str(int(x))\n",
    "\n",
    "def duration(x):\n",
    "    return str(int(str(x).replace(' minutes','')))\n",
    "\n",
    "def directors(x):\n",
    "    return '\\'' + str(x).replace('[','').replace(']','').replace('\\'','').replace('\\\"','') + '\\''\n",
    "\n",
    "def cast(x):\n",
    "    return '\\'' + str(x).replace('[','').replace(']','').replace('\\'','').replace('\\\"','') + '\\''\n",
    "\n",
    "def img_link(x):\n",
    "    return '\\'' + str(x) + '\\''\n",
    "\n",
    "def video_link(x):\n",
    "    return '\\'' + str(x) + '\\'),'"
   ]
  },
  {
   "cell_type": "code",
   "execution_count": 75,
   "metadata": {},
   "outputs": [
    {
     "name": "stderr",
     "output_type": "stream",
     "text": [
      "C:\\Users\\longt\\AppData\\Local\\Temp\\ipykernel_12956\\3817191811.py:1: SettingWithCopyWarning: \n",
      "A value is trying to be set on a copy of a slice from a DataFrame.\n",
      "Try using .loc[row_indexer,col_indexer] = value instead\n",
      "\n",
      "See the caveats in the documentation: https://pandas.pydata.org/pandas-docs/stable/user_guide/indexing.html#returning-a-view-versus-a-copy\n",
      "  movie['id'] = movie['id'].apply(id)\n",
      "C:\\Users\\longt\\AppData\\Local\\Temp\\ipykernel_12956\\3817191811.py:2: SettingWithCopyWarning: \n",
      "A value is trying to be set on a copy of a slice from a DataFrame.\n",
      "Try using .loc[row_indexer,col_indexer] = value instead\n",
      "\n",
      "See the caveats in the documentation: https://pandas.pydata.org/pandas-docs/stable/user_guide/indexing.html#returning-a-view-versus-a-copy\n",
      "  movie['name'] = movie['name'].apply(name)\n",
      "C:\\Users\\longt\\AppData\\Local\\Temp\\ipykernel_12956\\3817191811.py:3: SettingWithCopyWarning: \n",
      "A value is trying to be set on a copy of a slice from a DataFrame.\n",
      "Try using .loc[row_indexer,col_indexer] = value instead\n",
      "\n",
      "See the caveats in the documentation: https://pandas.pydata.org/pandas-docs/stable/user_guide/indexing.html#returning-a-view-versus-a-copy\n",
      "  movie['description'] = movie['description'].apply(description)\n",
      "C:\\Users\\longt\\AppData\\Local\\Temp\\ipykernel_12956\\3817191811.py:4: SettingWithCopyWarning: \n",
      "A value is trying to be set on a copy of a slice from a DataFrame.\n",
      "Try using .loc[row_indexer,col_indexer] = value instead\n",
      "\n",
      "See the caveats in the documentation: https://pandas.pydata.org/pandas-docs/stable/user_guide/indexing.html#returning-a-view-versus-a-copy\n",
      "  movie['release_year'] = movie['release_year'].apply(release_year)\n",
      "C:\\Users\\longt\\AppData\\Local\\Temp\\ipykernel_12956\\3817191811.py:5: SettingWithCopyWarning: \n",
      "A value is trying to be set on a copy of a slice from a DataFrame.\n",
      "Try using .loc[row_indexer,col_indexer] = value instead\n",
      "\n",
      "See the caveats in the documentation: https://pandas.pydata.org/pandas-docs/stable/user_guide/indexing.html#returning-a-view-versus-a-copy\n",
      "  movie['duration'] = movie['duration'].apply(duration)\n",
      "C:\\Users\\longt\\AppData\\Local\\Temp\\ipykernel_12956\\3817191811.py:6: SettingWithCopyWarning: \n",
      "A value is trying to be set on a copy of a slice from a DataFrame.\n",
      "Try using .loc[row_indexer,col_indexer] = value instead\n",
      "\n",
      "See the caveats in the documentation: https://pandas.pydata.org/pandas-docs/stable/user_guide/indexing.html#returning-a-view-versus-a-copy\n",
      "  movie['directors'] = movie['directors'].apply(directors)\n",
      "C:\\Users\\longt\\AppData\\Local\\Temp\\ipykernel_12956\\3817191811.py:7: SettingWithCopyWarning: \n",
      "A value is trying to be set on a copy of a slice from a DataFrame.\n",
      "Try using .loc[row_indexer,col_indexer] = value instead\n",
      "\n",
      "See the caveats in the documentation: https://pandas.pydata.org/pandas-docs/stable/user_guide/indexing.html#returning-a-view-versus-a-copy\n",
      "  movie['cast'] = movie['cast'].apply(cast)\n",
      "C:\\Users\\longt\\AppData\\Local\\Temp\\ipykernel_12956\\3817191811.py:8: SettingWithCopyWarning: \n",
      "A value is trying to be set on a copy of a slice from a DataFrame.\n",
      "Try using .loc[row_indexer,col_indexer] = value instead\n",
      "\n",
      "See the caveats in the documentation: https://pandas.pydata.org/pandas-docs/stable/user_guide/indexing.html#returning-a-view-versus-a-copy\n",
      "  movie['img_link'] = movie['img_link'].apply(img_link)\n",
      "C:\\Users\\longt\\AppData\\Local\\Temp\\ipykernel_12956\\3817191811.py:9: SettingWithCopyWarning: \n",
      "A value is trying to be set on a copy of a slice from a DataFrame.\n",
      "Try using .loc[row_indexer,col_indexer] = value instead\n",
      "\n",
      "See the caveats in the documentation: https://pandas.pydata.org/pandas-docs/stable/user_guide/indexing.html#returning-a-view-versus-a-copy\n",
      "  movie['video_link'] = movie['video_link'].apply(video_link)\n"
     ]
    }
   ],
   "source": [
    "movie['id'] = movie['id'].apply(id)\n",
    "movie['name'] = movie['name'].apply(name)\n",
    "movie['description'] = movie['description'].apply(description)\n",
    "movie['release_year'] = movie['release_year'].apply(release_year)\n",
    "movie['duration'] = movie['duration'].apply(duration)\n",
    "movie['directors'] = movie['directors'].apply(directors)\n",
    "movie['cast'] = movie['cast'].apply(cast)\n",
    "movie['img_link'] = movie['img_link'].apply(img_link)\n",
    "movie['video_link'] = movie['video_link'].apply(video_link)"
   ]
  },
  {
   "cell_type": "code",
   "execution_count": 76,
   "metadata": {},
   "outputs": [
    {
     "data": {
      "text/html": [
       "<div>\n",
       "<style scoped>\n",
       "    .dataframe tbody tr th:only-of-type {\n",
       "        vertical-align: middle;\n",
       "    }\n",
       "\n",
       "    .dataframe tbody tr th {\n",
       "        vertical-align: top;\n",
       "    }\n",
       "\n",
       "    .dataframe thead th {\n",
       "        text-align: right;\n",
       "    }\n",
       "</style>\n",
       "<table border=\"1\" class=\"dataframe\">\n",
       "  <thead>\n",
       "    <tr style=\"text-align: right;\">\n",
       "      <th></th>\n",
       "      <th>id</th>\n",
       "      <th>name</th>\n",
       "      <th>description</th>\n",
       "      <th>release_year</th>\n",
       "      <th>duration</th>\n",
       "      <th>directors</th>\n",
       "      <th>cast</th>\n",
       "      <th>img_link</th>\n",
       "      <th>video_link</th>\n",
       "    </tr>\n",
       "  </thead>\n",
       "  <tbody>\n",
       "    <tr>\n",
       "      <th>0</th>\n",
       "      <td>\\t(1</td>\n",
       "      <td>'Toy Story'</td>\n",
       "      <td>'Led by Woody, Andy\\'s toys live happily in hi...</td>\n",
       "      <td>1995</td>\n",
       "      <td>81</td>\n",
       "      <td>'John Lasseter'</td>\n",
       "      <td>'Tom Hanks, Tim Allen, Don Rickles, Jim Varney...</td>\n",
       "      <td>'https://image.tmdb.org/t/p/original/lxD5ak7BO...</td>\n",
       "      <td>'https://imdb-video.media-imdb.com/vi205212930...</td>\n",
       "    </tr>\n",
       "    <tr>\n",
       "      <th>1</th>\n",
       "      <td>\\t(2</td>\n",
       "      <td>'Jumanji'</td>\n",
       "      <td>'When siblings Judy and Peter discover an ench...</td>\n",
       "      <td>1995</td>\n",
       "      <td>104</td>\n",
       "      <td>'Joe Johnston'</td>\n",
       "      <td>'Robin Williams, Kirsten Dunst, Bradley Pierce...</td>\n",
       "      <td>'https://image.tmdb.org/t/p/original/i7jKGJZjG...</td>\n",
       "      <td>'nan'),</td>\n",
       "    </tr>\n",
       "    <tr>\n",
       "      <th>2</th>\n",
       "      <td>\\t(3</td>\n",
       "      <td>'Grumpier Old Men'</td>\n",
       "      <td>'A family wedding reignites the ancient feud b...</td>\n",
       "      <td>1995</td>\n",
       "      <td>101</td>\n",
       "      <td>'Howard Deutch'</td>\n",
       "      <td>'Walter Matthau, Jack Lemmon, Ann-Margret, Sop...</td>\n",
       "      <td>'https://image.tmdb.org/t/p/original/1J4Z7VhdA...</td>\n",
       "      <td>'nan'),</td>\n",
       "    </tr>\n",
       "    <tr>\n",
       "      <th>3</th>\n",
       "      <td>\\t(4</td>\n",
       "      <td>'Waiting to Exhale'</td>\n",
       "      <td>'Cheated on, mistreated and stepped on, the wo...</td>\n",
       "      <td>1995</td>\n",
       "      <td>127</td>\n",
       "      <td>'Forest Whitaker'</td>\n",
       "      <td>'Whitney Houston, Angela Bassett, Loretta Devi...</td>\n",
       "      <td>'https://image.tmdb.org/t/p/original/jZjoEKXMT...</td>\n",
       "      <td>'nan'),</td>\n",
       "    </tr>\n",
       "    <tr>\n",
       "      <th>4</th>\n",
       "      <td>\\t(5</td>\n",
       "      <td>'Father of the Bride Part II'</td>\n",
       "      <td>'Just when George Banks has recovered from his...</td>\n",
       "      <td>1995</td>\n",
       "      <td>106</td>\n",
       "      <td>'Charles Shyer'</td>\n",
       "      <td>'Steve Martin, Diane Keaton, Martin Short, Kim...</td>\n",
       "      <td>'https://image.tmdb.org/t/p/original/lEsjVrGU2...</td>\n",
       "      <td>'https://imdb-video.media-imdb.com/vi398601448...</td>\n",
       "    </tr>\n",
       "  </tbody>\n",
       "</table>\n",
       "</div>"
      ],
      "text/plain": [
       "     id                           name  \\\n",
       "0  \\t(1                    'Toy Story'   \n",
       "1  \\t(2                      'Jumanji'   \n",
       "2  \\t(3             'Grumpier Old Men'   \n",
       "3  \\t(4            'Waiting to Exhale'   \n",
       "4  \\t(5  'Father of the Bride Part II'   \n",
       "\n",
       "                                         description release_year duration  \\\n",
       "0  'Led by Woody, Andy\\'s toys live happily in hi...         1995       81   \n",
       "1  'When siblings Judy and Peter discover an ench...         1995      104   \n",
       "2  'A family wedding reignites the ancient feud b...         1995      101   \n",
       "3  'Cheated on, mistreated and stepped on, the wo...         1995      127   \n",
       "4  'Just when George Banks has recovered from his...         1995      106   \n",
       "\n",
       "           directors                                               cast  \\\n",
       "0    'John Lasseter'  'Tom Hanks, Tim Allen, Don Rickles, Jim Varney...   \n",
       "1     'Joe Johnston'  'Robin Williams, Kirsten Dunst, Bradley Pierce...   \n",
       "2    'Howard Deutch'  'Walter Matthau, Jack Lemmon, Ann-Margret, Sop...   \n",
       "3  'Forest Whitaker'  'Whitney Houston, Angela Bassett, Loretta Devi...   \n",
       "4    'Charles Shyer'  'Steve Martin, Diane Keaton, Martin Short, Kim...   \n",
       "\n",
       "                                            img_link  \\\n",
       "0  'https://image.tmdb.org/t/p/original/lxD5ak7BO...   \n",
       "1  'https://image.tmdb.org/t/p/original/i7jKGJZjG...   \n",
       "2  'https://image.tmdb.org/t/p/original/1J4Z7VhdA...   \n",
       "3  'https://image.tmdb.org/t/p/original/jZjoEKXMT...   \n",
       "4  'https://image.tmdb.org/t/p/original/lEsjVrGU2...   \n",
       "\n",
       "                                          video_link  \n",
       "0  'https://imdb-video.media-imdb.com/vi205212930...  \n",
       "1                                            'nan'),  \n",
       "2                                            'nan'),  \n",
       "3                                            'nan'),  \n",
       "4  'https://imdb-video.media-imdb.com/vi398601448...  "
      ]
     },
     "execution_count": 76,
     "metadata": {},
     "output_type": "execute_result"
    }
   ],
   "source": [
    "movie.head()"
   ]
  },
  {
   "cell_type": "code",
   "execution_count": 77,
   "metadata": {},
   "outputs": [],
   "source": [
    "# movie.to_csv('movie.csv', index=False)"
   ]
  },
  {
   "cell_type": "markdown",
   "metadata": {},
   "source": [
    "# Movie_label"
   ]
  },
  {
   "cell_type": "code",
   "execution_count": 78,
   "metadata": {},
   "outputs": [],
   "source": [
    "movie_label = dataset[['id', 'label']]"
   ]
  },
  {
   "cell_type": "code",
   "execution_count": 79,
   "metadata": {},
   "outputs": [],
   "source": [
    "def id(x):\n",
    "    return '\\t(' + str(x)\n",
    "\n",
    "def label(x):\n",
    "    return ' \\'' + str(x) + '\\'),'"
   ]
  },
  {
   "cell_type": "code",
   "execution_count": 80,
   "metadata": {},
   "outputs": [
    {
     "name": "stderr",
     "output_type": "stream",
     "text": [
      "C:\\Users\\longt\\AppData\\Local\\Temp\\ipykernel_12956\\3502754357.py:1: SettingWithCopyWarning: \n",
      "A value is trying to be set on a copy of a slice from a DataFrame.\n",
      "Try using .loc[row_indexer,col_indexer] = value instead\n",
      "\n",
      "See the caveats in the documentation: https://pandas.pydata.org/pandas-docs/stable/user_guide/indexing.html#returning-a-view-versus-a-copy\n",
      "  movie_label['id'] = movie_label['id'].apply(id)\n",
      "C:\\Users\\longt\\AppData\\Local\\Temp\\ipykernel_12956\\3502754357.py:2: SettingWithCopyWarning: \n",
      "A value is trying to be set on a copy of a slice from a DataFrame.\n",
      "Try using .loc[row_indexer,col_indexer] = value instead\n",
      "\n",
      "See the caveats in the documentation: https://pandas.pydata.org/pandas-docs/stable/user_guide/indexing.html#returning-a-view-versus-a-copy\n",
      "  movie_label['label'] = movie_label['label'].apply(label)\n"
     ]
    }
   ],
   "source": [
    "movie_label['id'] = movie_label['id'].apply(id)\n",
    "movie_label['label'] = movie_label['label'].apply(label)"
   ]
  },
  {
   "cell_type": "code",
   "execution_count": 81,
   "metadata": {},
   "outputs": [
    {
     "data": {
      "text/html": [
       "<div>\n",
       "<style scoped>\n",
       "    .dataframe tbody tr th:only-of-type {\n",
       "        vertical-align: middle;\n",
       "    }\n",
       "\n",
       "    .dataframe tbody tr th {\n",
       "        vertical-align: top;\n",
       "    }\n",
       "\n",
       "    .dataframe thead th {\n",
       "        text-align: right;\n",
       "    }\n",
       "</style>\n",
       "<table border=\"1\" class=\"dataframe\">\n",
       "  <thead>\n",
       "    <tr style=\"text-align: right;\">\n",
       "      <th></th>\n",
       "      <th>id</th>\n",
       "      <th>label</th>\n",
       "    </tr>\n",
       "  </thead>\n",
       "  <tbody>\n",
       "    <tr>\n",
       "      <th>0</th>\n",
       "      <td>\\t(1</td>\n",
       "      <td>'G'),</td>\n",
       "    </tr>\n",
       "    <tr>\n",
       "      <th>1</th>\n",
       "      <td>\\t(2</td>\n",
       "      <td>'PG'),</td>\n",
       "    </tr>\n",
       "    <tr>\n",
       "      <th>2</th>\n",
       "      <td>\\t(3</td>\n",
       "      <td>'PG-13'),</td>\n",
       "    </tr>\n",
       "    <tr>\n",
       "      <th>3</th>\n",
       "      <td>\\t(4</td>\n",
       "      <td>'R'),</td>\n",
       "    </tr>\n",
       "    <tr>\n",
       "      <th>4</th>\n",
       "      <td>\\t(5</td>\n",
       "      <td>'PG'),</td>\n",
       "    </tr>\n",
       "  </tbody>\n",
       "</table>\n",
       "</div>"
      ],
      "text/plain": [
       "     id       label\n",
       "0  \\t(1       'G'),\n",
       "1  \\t(2      'PG'),\n",
       "2  \\t(3   'PG-13'),\n",
       "3  \\t(4       'R'),\n",
       "4  \\t(5      'PG'),"
      ]
     },
     "execution_count": 81,
     "metadata": {},
     "output_type": "execute_result"
    }
   ],
   "source": [
    "movie_label.head()"
   ]
  },
  {
   "cell_type": "code",
   "execution_count": 82,
   "metadata": {},
   "outputs": [],
   "source": [
    "# movie_label.to_csv('movie_label.csv', index=False)"
   ]
  },
  {
   "cell_type": "markdown",
   "metadata": {},
   "source": [
    "# Movie_genre"
   ]
  },
  {
   "cell_type": "code",
   "execution_count": 83,
   "metadata": {},
   "outputs": [],
   "source": [
    "movie_genre = dataset[['id', 'genres']]"
   ]
  },
  {
   "cell_type": "code",
   "execution_count": 84,
   "metadata": {},
   "outputs": [
    {
     "data": {
      "text/plain": [
       "genres\n",
       "['Drama']                                           114\n",
       "['Drama', 'Romance']                                 85\n",
       "['Comedy']                                           81\n",
       "['Comedy', 'Drama']                                  67\n",
       "['Comedy', 'Romance']                                65\n",
       "                                                   ... \n",
       "['Animation', 'Adventure', 'Family']                  1\n",
       "['Comedy', 'Crime', 'Drama', 'Thriller']              1\n",
       "['Action', 'Fantasy', 'Thriller']                     1\n",
       "['Romance', 'Drama', 'Comedy', 'History']             1\n",
       "['Comedy', 'Drama', 'Family', 'Science Fiction']      1\n",
       "Name: count, Length: 616, dtype: int64"
      ]
     },
     "execution_count": 84,
     "metadata": {},
     "output_type": "execute_result"
    }
   ],
   "source": [
    "movie_genre['genres'].value_counts()"
   ]
  },
  {
   "cell_type": "code",
   "execution_count": 85,
   "metadata": {},
   "outputs": [],
   "source": [
    "def id(x):\n",
    "    return '\\t(' + str(x) + ', '"
   ]
  },
  {
   "cell_type": "code",
   "execution_count": 86,
   "metadata": {},
   "outputs": [],
   "source": [
    "def replace(x):\n",
    "    return x.replace('[', '').replace(']', '').replace(', ', ',').replace(',,', ',')"
   ]
  },
  {
   "cell_type": "code",
   "execution_count": 87,
   "metadata": {},
   "outputs": [],
   "source": [
    "def add_space(x):\n",
    "    x = replace(x)\n",
    "    if 'ScienceFiction' in x:\n",
    "        return x.replace('ScienceFiction','Science Fiction')\n",
    "    if 'TVMovie' in x:\n",
    "        return x.replace('TVMovie','TV Movie')\n",
    "    return x"
   ]
  },
  {
   "cell_type": "code",
   "execution_count": 88,
   "metadata": {},
   "outputs": [],
   "source": [
    "def split_genre(x):\n",
    "    x = add_space(x)\n",
    "    return x.split(',')"
   ]
  },
  {
   "cell_type": "code",
   "execution_count": 89,
   "metadata": {},
   "outputs": [
    {
     "name": "stderr",
     "output_type": "stream",
     "text": [
      "C:\\Users\\longt\\AppData\\Local\\Temp\\ipykernel_12956\\3615473202.py:1: SettingWithCopyWarning: \n",
      "A value is trying to be set on a copy of a slice from a DataFrame.\n",
      "Try using .loc[row_indexer,col_indexer] = value instead\n",
      "\n",
      "See the caveats in the documentation: https://pandas.pydata.org/pandas-docs/stable/user_guide/indexing.html#returning-a-view-versus-a-copy\n",
      "  movie_genre['id'] = movie_genre['id'].apply(id)\n"
     ]
    }
   ],
   "source": [
    "movie_genre['id'] = movie_genre['id'].apply(id)"
   ]
  },
  {
   "cell_type": "code",
   "execution_count": 90,
   "metadata": {},
   "outputs": [
    {
     "name": "stderr",
     "output_type": "stream",
     "text": [
      "C:\\Users\\longt\\AppData\\Local\\Temp\\ipykernel_12956\\2604493277.py:1: SettingWithCopyWarning: \n",
      "A value is trying to be set on a copy of a slice from a DataFrame.\n",
      "Try using .loc[row_indexer,col_indexer] = value instead\n",
      "\n",
      "See the caveats in the documentation: https://pandas.pydata.org/pandas-docs/stable/user_guide/indexing.html#returning-a-view-versus-a-copy\n",
      "  movie_genre['genres'] = movie_genre['genres'].apply(split_genre)\n"
     ]
    }
   ],
   "source": [
    "movie_genre['genres'] = movie_genre['genres'].apply(split_genre)"
   ]
  },
  {
   "cell_type": "code",
   "execution_count": 91,
   "metadata": {},
   "outputs": [
    {
     "data": {
      "text/plain": [
       "[\"'Comedy'\", \"'Adventure'\"]"
      ]
     },
     "execution_count": 91,
     "metadata": {},
     "output_type": "execute_result"
    }
   ],
   "source": [
    "movie_genre['genres'].iloc[776]"
   ]
  },
  {
   "cell_type": "code",
   "execution_count": 92,
   "metadata": {},
   "outputs": [],
   "source": [
    "genres = []"
   ]
  },
  {
   "cell_type": "code",
   "execution_count": 93,
   "metadata": {},
   "outputs": [],
   "source": [
    "# cnt = 0\n",
    "# with open('../insert2nd/movie_genre.sql', 'w') as f:\n",
    "#     for i in range(movie_genre.shape[0]):\n",
    "#         f.write('INSERT INTO movie_genre (movie_id, genre_name)\\nVALUES\\n')\n",
    "#         arr = movie_genre['genres'].iloc[i]\n",
    "#         for j in range(len(arr)):\n",
    "#             str = movie_genre['id'].iloc[i]\n",
    "#             genre = arr[j]\n",
    "#             if genre is None or genre == '':\n",
    "#                 continue\n",
    "#             str += (genre + ('),\\n' if j < len(arr) - 1 else ');\\n'))\n",
    "#             if genre not in genres:\n",
    "#                 genres.append(genre)\n",
    "#             cnt += 1\n",
    "#             # print(cnt)\n",
    "#             f.write(str)\n",
    "#     print(cnt)\n",
    "#     f.close() "
   ]
  },
  {
   "cell_type": "code",
   "execution_count": 94,
   "metadata": {},
   "outputs": [
    {
     "name": "stdout",
     "output_type": "stream",
     "text": [
      "0\n"
     ]
    }
   ],
   "source": [
    "genres = sorted(genres)\n",
    "for genre in genres:\n",
    "    print(genre)\n",
    "    \n",
    "print(len(genres))"
   ]
  },
  {
   "cell_type": "code",
   "execution_count": 95,
   "metadata": {},
   "outputs": [],
   "source": [
    "# movie_genre['1'] = movie_genre['genres'].apply(lambda x: f(x, 0))\n",
    "# movie_genre['2'] = movie_genre['genres'].apply(lambda x: f(x, 1))\n",
    "# movie_genre['3'] = movie_genre['genres'].apply(lambda x: f(x, 2))\n",
    "# movie_genre['4'] = movie_genre['genres'].apply(lambda x: f(x, 3))\n",
    "# movie_genre['5'] = movie_genre['genres'].apply(lambda x: f(x, 4))\n",
    "# movie_genre['6'] = movie_genre['genres'].apply(lambda x: f(x, 5))\n",
    "# movie_genre['7'] = movie_genre['genres'].apply(lambda x: f(x, 6))\n"
   ]
  },
  {
   "cell_type": "code",
   "execution_count": 96,
   "metadata": {},
   "outputs": [],
   "source": [
    "# movie_genre.drop('genres', axis=1, inplace=True)"
   ]
  },
  {
   "cell_type": "code",
   "execution_count": 97,
   "metadata": {},
   "outputs": [
    {
     "data": {
      "text/html": [
       "<div>\n",
       "<style scoped>\n",
       "    .dataframe tbody tr th:only-of-type {\n",
       "        vertical-align: middle;\n",
       "    }\n",
       "\n",
       "    .dataframe tbody tr th {\n",
       "        vertical-align: top;\n",
       "    }\n",
       "\n",
       "    .dataframe thead th {\n",
       "        text-align: right;\n",
       "    }\n",
       "</style>\n",
       "<table border=\"1\" class=\"dataframe\">\n",
       "  <thead>\n",
       "    <tr style=\"text-align: right;\">\n",
       "      <th></th>\n",
       "      <th>id</th>\n",
       "      <th>genres</th>\n",
       "    </tr>\n",
       "  </thead>\n",
       "  <tbody>\n",
       "    <tr>\n",
       "      <th>0</th>\n",
       "      <td>\\t(1,</td>\n",
       "      <td>['Animation', 'Adventure', 'Family', 'Comedy']</td>\n",
       "    </tr>\n",
       "    <tr>\n",
       "      <th>1</th>\n",
       "      <td>\\t(2,</td>\n",
       "      <td>['Adventure', 'Fantasy', 'Family']</td>\n",
       "    </tr>\n",
       "    <tr>\n",
       "      <th>2</th>\n",
       "      <td>\\t(3,</td>\n",
       "      <td>['Romance', 'Comedy']</td>\n",
       "    </tr>\n",
       "    <tr>\n",
       "      <th>3</th>\n",
       "      <td>\\t(4,</td>\n",
       "      <td>['Comedy', 'Drama', 'Romance']</td>\n",
       "    </tr>\n",
       "    <tr>\n",
       "      <th>4</th>\n",
       "      <td>\\t(5,</td>\n",
       "      <td>['Comedy', 'Family']</td>\n",
       "    </tr>\n",
       "    <tr>\n",
       "      <th>...</th>\n",
       "      <td>...</td>\n",
       "      <td>...</td>\n",
       "    </tr>\n",
       "    <tr>\n",
       "      <th>1826</th>\n",
       "      <td>\\t(2498,</td>\n",
       "      <td>['Comedy', 'Drama', 'Family', 'Science Fiction']</td>\n",
       "    </tr>\n",
       "    <tr>\n",
       "      <th>1827</th>\n",
       "      <td>\\t(2500,</td>\n",
       "      <td>['Comedy', 'Crime']</td>\n",
       "    </tr>\n",
       "    <tr>\n",
       "      <th>1828</th>\n",
       "      <td>\\t(2501,</td>\n",
       "      <td>['Drama', 'Family']</td>\n",
       "    </tr>\n",
       "    <tr>\n",
       "      <th>1829</th>\n",
       "      <td>\\t(2502,</td>\n",
       "      <td>['Comedy']</td>\n",
       "    </tr>\n",
       "    <tr>\n",
       "      <th>1830</th>\n",
       "      <td>\\t(2504,</td>\n",
       "      <td>['Comedy', 'Drama', 'Romance']</td>\n",
       "    </tr>\n",
       "  </tbody>\n",
       "</table>\n",
       "<p>1831 rows × 2 columns</p>\n",
       "</div>"
      ],
      "text/plain": [
       "             id                                            genres\n",
       "0        \\t(1,     ['Animation', 'Adventure', 'Family', 'Comedy']\n",
       "1        \\t(2,                 ['Adventure', 'Fantasy', 'Family']\n",
       "2        \\t(3,                              ['Romance', 'Comedy']\n",
       "3        \\t(4,                     ['Comedy', 'Drama', 'Romance']\n",
       "4        \\t(5,                               ['Comedy', 'Family']\n",
       "...         ...                                               ...\n",
       "1826  \\t(2498,   ['Comedy', 'Drama', 'Family', 'Science Fiction']\n",
       "1827  \\t(2500,                                ['Comedy', 'Crime']\n",
       "1828  \\t(2501,                                ['Drama', 'Family']\n",
       "1829  \\t(2502,                                         ['Comedy']\n",
       "1830  \\t(2504,                     ['Comedy', 'Drama', 'Romance']\n",
       "\n",
       "[1831 rows x 2 columns]"
      ]
     },
     "execution_count": 97,
     "metadata": {},
     "output_type": "execute_result"
    }
   ],
   "source": [
    "movie_genre"
   ]
  },
  {
   "cell_type": "markdown",
   "metadata": {},
   "source": [
    "# User_rating"
   ]
  },
  {
   "cell_type": "code",
   "execution_count": 98,
   "metadata": {},
   "outputs": [],
   "source": [
    "user_rating = pd.read_csv('./fakedata/ratings.csv')"
   ]
  },
  {
   "cell_type": "code",
   "execution_count": 99,
   "metadata": {},
   "outputs": [
    {
     "name": "stdout",
     "output_type": "stream",
     "text": [
      "<class 'pandas.core.frame.DataFrame'>\n",
      "RangeIndex: 25000095 entries, 0 to 25000094\n",
      "Data columns (total 4 columns):\n",
      " #   Column     Dtype  \n",
      "---  ------     -----  \n",
      " 0   userId     int64  \n",
      " 1   movieId    int64  \n",
      " 2   rating     float64\n",
      " 3   timestamp  int64  \n",
      "dtypes: float64(1), int64(3)\n",
      "memory usage: 762.9 MB\n"
     ]
    }
   ],
   "source": [
    "user_rating.info()"
   ]
  },
  {
   "cell_type": "code",
   "execution_count": 100,
   "metadata": {},
   "outputs": [
    {
     "data": {
      "text/html": [
       "<div>\n",
       "<style scoped>\n",
       "    .dataframe tbody tr th:only-of-type {\n",
       "        vertical-align: middle;\n",
       "    }\n",
       "\n",
       "    .dataframe tbody tr th {\n",
       "        vertical-align: top;\n",
       "    }\n",
       "\n",
       "    .dataframe thead th {\n",
       "        text-align: right;\n",
       "    }\n",
       "</style>\n",
       "<table border=\"1\" class=\"dataframe\">\n",
       "  <thead>\n",
       "    <tr style=\"text-align: right;\">\n",
       "      <th></th>\n",
       "      <th>userId</th>\n",
       "      <th>movieId</th>\n",
       "      <th>rating</th>\n",
       "      <th>timestamp</th>\n",
       "    </tr>\n",
       "  </thead>\n",
       "  <tbody>\n",
       "    <tr>\n",
       "      <th>0</th>\n",
       "      <td>1</td>\n",
       "      <td>296</td>\n",
       "      <td>5.0</td>\n",
       "      <td>1147880044</td>\n",
       "    </tr>\n",
       "    <tr>\n",
       "      <th>1</th>\n",
       "      <td>1</td>\n",
       "      <td>306</td>\n",
       "      <td>3.5</td>\n",
       "      <td>1147868817</td>\n",
       "    </tr>\n",
       "    <tr>\n",
       "      <th>2</th>\n",
       "      <td>1</td>\n",
       "      <td>307</td>\n",
       "      <td>5.0</td>\n",
       "      <td>1147868828</td>\n",
       "    </tr>\n",
       "    <tr>\n",
       "      <th>3</th>\n",
       "      <td>1</td>\n",
       "      <td>665</td>\n",
       "      <td>5.0</td>\n",
       "      <td>1147878820</td>\n",
       "    </tr>\n",
       "    <tr>\n",
       "      <th>4</th>\n",
       "      <td>1</td>\n",
       "      <td>899</td>\n",
       "      <td>3.5</td>\n",
       "      <td>1147868510</td>\n",
       "    </tr>\n",
       "  </tbody>\n",
       "</table>\n",
       "</div>"
      ],
      "text/plain": [
       "   userId  movieId  rating   timestamp\n",
       "0       1      296     5.0  1147880044\n",
       "1       1      306     3.5  1147868817\n",
       "2       1      307     5.0  1147868828\n",
       "3       1      665     5.0  1147878820\n",
       "4       1      899     3.5  1147868510"
      ]
     },
     "execution_count": 100,
     "metadata": {},
     "output_type": "execute_result"
    }
   ],
   "source": [
    "user_rating.head()"
   ]
  },
  {
   "cell_type": "code",
   "execution_count": 101,
   "metadata": {},
   "outputs": [],
   "source": [
    "user_rating['rating'] = user_rating['rating'] * 2"
   ]
  },
  {
   "cell_type": "code",
   "execution_count": 102,
   "metadata": {},
   "outputs": [
    {
     "data": {
      "text/plain": [
       "0           10.0\n",
       "1            7.0\n",
       "2           10.0\n",
       "3           10.0\n",
       "4            7.0\n",
       "            ... \n",
       "25000090     9.0\n",
       "25000091     5.0\n",
       "25000092     4.0\n",
       "25000093     8.0\n",
       "25000094    10.0\n",
       "Name: rating, Length: 25000095, dtype: float64"
      ]
     },
     "execution_count": 102,
     "metadata": {},
     "output_type": "execute_result"
    }
   ],
   "source": [
    "user_rating['rating']"
   ]
  },
  {
   "cell_type": "code",
   "execution_count": 103,
   "metadata": {},
   "outputs": [],
   "source": [
    "user_rating = user_rating.loc[(user_rating['movieId'].isin(dataset['id'])) & (user_rating['rating'] >= 1)]"
   ]
  },
  {
   "cell_type": "code",
   "execution_count": 104,
   "metadata": {},
   "outputs": [
    {
     "data": {
      "text/plain": [
       "(10655051, 4)"
      ]
     },
     "execution_count": 104,
     "metadata": {},
     "output_type": "execute_result"
    }
   ],
   "source": [
    "user_rating.shape"
   ]
  },
  {
   "cell_type": "code",
   "execution_count": 105,
   "metadata": {},
   "outputs": [
    {
     "data": {
      "text/html": [
       "<div>\n",
       "<style scoped>\n",
       "    .dataframe tbody tr th:only-of-type {\n",
       "        vertical-align: middle;\n",
       "    }\n",
       "\n",
       "    .dataframe tbody tr th {\n",
       "        vertical-align: top;\n",
       "    }\n",
       "\n",
       "    .dataframe thead th {\n",
       "        text-align: right;\n",
       "    }\n",
       "</style>\n",
       "<table border=\"1\" class=\"dataframe\">\n",
       "  <thead>\n",
       "    <tr style=\"text-align: right;\">\n",
       "      <th></th>\n",
       "      <th>userId</th>\n",
       "      <th>movieId</th>\n",
       "      <th>rating</th>\n",
       "      <th>timestamp</th>\n",
       "    </tr>\n",
       "  </thead>\n",
       "  <tbody>\n",
       "    <tr>\n",
       "      <th>0</th>\n",
       "      <td>1</td>\n",
       "      <td>296</td>\n",
       "      <td>10.0</td>\n",
       "      <td>1147880044</td>\n",
       "    </tr>\n",
       "    <tr>\n",
       "      <th>1</th>\n",
       "      <td>1</td>\n",
       "      <td>306</td>\n",
       "      <td>7.0</td>\n",
       "      <td>1147868817</td>\n",
       "    </tr>\n",
       "    <tr>\n",
       "      <th>2</th>\n",
       "      <td>1</td>\n",
       "      <td>307</td>\n",
       "      <td>10.0</td>\n",
       "      <td>1147868828</td>\n",
       "    </tr>\n",
       "    <tr>\n",
       "      <th>4</th>\n",
       "      <td>1</td>\n",
       "      <td>899</td>\n",
       "      <td>7.0</td>\n",
       "      <td>1147868510</td>\n",
       "    </tr>\n",
       "    <tr>\n",
       "      <th>5</th>\n",
       "      <td>1</td>\n",
       "      <td>1088</td>\n",
       "      <td>8.0</td>\n",
       "      <td>1147868495</td>\n",
       "    </tr>\n",
       "  </tbody>\n",
       "</table>\n",
       "</div>"
      ],
      "text/plain": [
       "   userId  movieId  rating   timestamp\n",
       "0       1      296    10.0  1147880044\n",
       "1       1      306     7.0  1147868817\n",
       "2       1      307    10.0  1147868828\n",
       "4       1      899     7.0  1147868510\n",
       "5       1     1088     8.0  1147868495"
      ]
     },
     "execution_count": 105,
     "metadata": {},
     "output_type": "execute_result"
    }
   ],
   "source": [
    "user_rating.head()"
   ]
  },
  {
   "cell_type": "code",
   "execution_count": 106,
   "metadata": {},
   "outputs": [],
   "source": [
    "def userid(x):\n",
    "    return '\\t(' + str(x)\n",
    "\n",
    "def movieid(x):\n",
    "    return str(x)\n",
    "\n",
    "def rating(x):\n",
    "    return str(int(x))\n",
    "\n",
    "def timestamp(x):\n",
    "    return 'FROM_UNIXTIME(' + str(x) + ')),'"
   ]
  },
  {
   "cell_type": "code",
   "execution_count": 107,
   "metadata": {},
   "outputs": [],
   "source": [
    "user_rating['userId'] = user_rating['userId'].apply(userid)\n",
    "user_rating['movieId'] = user_rating['movieId'].apply(movieid)\n",
    "user_rating['rating'] = user_rating['rating'].apply(rating)\n",
    "user_rating['timestamp'] = user_rating['timestamp'].apply(timestamp)\n"
   ]
  },
  {
   "cell_type": "code",
   "execution_count": 108,
   "metadata": {},
   "outputs": [
    {
     "data": {
      "text/html": [
       "<div>\n",
       "<style scoped>\n",
       "    .dataframe tbody tr th:only-of-type {\n",
       "        vertical-align: middle;\n",
       "    }\n",
       "\n",
       "    .dataframe tbody tr th {\n",
       "        vertical-align: top;\n",
       "    }\n",
       "\n",
       "    .dataframe thead th {\n",
       "        text-align: right;\n",
       "    }\n",
       "</style>\n",
       "<table border=\"1\" class=\"dataframe\">\n",
       "  <thead>\n",
       "    <tr style=\"text-align: right;\">\n",
       "      <th></th>\n",
       "      <th>userId</th>\n",
       "      <th>movieId</th>\n",
       "      <th>rating</th>\n",
       "      <th>timestamp</th>\n",
       "    </tr>\n",
       "  </thead>\n",
       "  <tbody>\n",
       "    <tr>\n",
       "      <th>25000002</th>\n",
       "      <td>\\t(162541</td>\n",
       "      <td>2324</td>\n",
       "      <td>9</td>\n",
       "      <td>FROM_UNIXTIME(1240953595)),</td>\n",
       "    </tr>\n",
       "    <tr>\n",
       "      <th>25000003</th>\n",
       "      <td>\\t(162541</td>\n",
       "      <td>2329</td>\n",
       "      <td>9</td>\n",
       "      <td>FROM_UNIXTIME(1240950831)),</td>\n",
       "    </tr>\n",
       "    <tr>\n",
       "      <th>25000004</th>\n",
       "      <td>\\t(162541</td>\n",
       "      <td>2352</td>\n",
       "      <td>5</td>\n",
       "      <td>FROM_UNIXTIME(1240952298)),</td>\n",
       "    </tr>\n",
       "    <tr>\n",
       "      <th>25000005</th>\n",
       "      <td>\\t(162541</td>\n",
       "      <td>2396</td>\n",
       "      <td>8</td>\n",
       "      <td>FROM_UNIXTIME(1240952712)),</td>\n",
       "    </tr>\n",
       "    <tr>\n",
       "      <th>25000006</th>\n",
       "      <td>\\t(162541</td>\n",
       "      <td>2407</td>\n",
       "      <td>6</td>\n",
       "      <td>FROM_UNIXTIME(1240946787)),</td>\n",
       "    </tr>\n",
       "  </tbody>\n",
       "</table>\n",
       "</div>"
      ],
      "text/plain": [
       "             userId movieId rating                    timestamp\n",
       "25000002  \\t(162541    2324      9  FROM_UNIXTIME(1240953595)),\n",
       "25000003  \\t(162541    2329      9  FROM_UNIXTIME(1240950831)),\n",
       "25000004  \\t(162541    2352      5  FROM_UNIXTIME(1240952298)),\n",
       "25000005  \\t(162541    2396      8  FROM_UNIXTIME(1240952712)),\n",
       "25000006  \\t(162541    2407      6  FROM_UNIXTIME(1240946787)),"
      ]
     },
     "execution_count": 108,
     "metadata": {},
     "output_type": "execute_result"
    }
   ],
   "source": [
    "user_rating.tail()"
   ]
  },
  {
   "cell_type": "code",
   "execution_count": 109,
   "metadata": {},
   "outputs": [],
   "source": [
    "index = pd.DataFrame(np.arange(0, user_rating.shape[0]), columns=['index'])"
   ]
  },
  {
   "cell_type": "code",
   "execution_count": 110,
   "metadata": {},
   "outputs": [
    {
     "data": {
      "text/html": [
       "<div>\n",
       "<style scoped>\n",
       "    .dataframe tbody tr th:only-of-type {\n",
       "        vertical-align: middle;\n",
       "    }\n",
       "\n",
       "    .dataframe tbody tr th {\n",
       "        vertical-align: top;\n",
       "    }\n",
       "\n",
       "    .dataframe thead th {\n",
       "        text-align: right;\n",
       "    }\n",
       "</style>\n",
       "<table border=\"1\" class=\"dataframe\">\n",
       "  <thead>\n",
       "    <tr style=\"text-align: right;\">\n",
       "      <th></th>\n",
       "      <th>index</th>\n",
       "    </tr>\n",
       "  </thead>\n",
       "  <tbody>\n",
       "    <tr>\n",
       "      <th>0</th>\n",
       "      <td>0</td>\n",
       "    </tr>\n",
       "    <tr>\n",
       "      <th>1</th>\n",
       "      <td>1</td>\n",
       "    </tr>\n",
       "    <tr>\n",
       "      <th>2</th>\n",
       "      <td>2</td>\n",
       "    </tr>\n",
       "    <tr>\n",
       "      <th>3</th>\n",
       "      <td>3</td>\n",
       "    </tr>\n",
       "    <tr>\n",
       "      <th>4</th>\n",
       "      <td>4</td>\n",
       "    </tr>\n",
       "  </tbody>\n",
       "</table>\n",
       "</div>"
      ],
      "text/plain": [
       "   index\n",
       "0      0\n",
       "1      1\n",
       "2      2\n",
       "3      3\n",
       "4      4"
      ]
     },
     "execution_count": 110,
     "metadata": {},
     "output_type": "execute_result"
    }
   ],
   "source": [
    "index.head()"
   ]
  },
  {
   "cell_type": "code",
   "execution_count": 111,
   "metadata": {},
   "outputs": [],
   "source": [
    "user_rating.set_index(index['index'], inplace=True)"
   ]
  },
  {
   "cell_type": "code",
   "execution_count": 112,
   "metadata": {},
   "outputs": [
    {
     "data": {
      "text/html": [
       "<div>\n",
       "<style scoped>\n",
       "    .dataframe tbody tr th:only-of-type {\n",
       "        vertical-align: middle;\n",
       "    }\n",
       "\n",
       "    .dataframe tbody tr th {\n",
       "        vertical-align: top;\n",
       "    }\n",
       "\n",
       "    .dataframe thead th {\n",
       "        text-align: right;\n",
       "    }\n",
       "</style>\n",
       "<table border=\"1\" class=\"dataframe\">\n",
       "  <thead>\n",
       "    <tr style=\"text-align: right;\">\n",
       "      <th></th>\n",
       "      <th>userId</th>\n",
       "      <th>movieId</th>\n",
       "      <th>rating</th>\n",
       "      <th>timestamp</th>\n",
       "    </tr>\n",
       "    <tr>\n",
       "      <th>index</th>\n",
       "      <th></th>\n",
       "      <th></th>\n",
       "      <th></th>\n",
       "      <th></th>\n",
       "    </tr>\n",
       "  </thead>\n",
       "  <tbody>\n",
       "    <tr>\n",
       "      <th>10655046</th>\n",
       "      <td>\\t(162541</td>\n",
       "      <td>2324</td>\n",
       "      <td>9</td>\n",
       "      <td>FROM_UNIXTIME(1240953595)),</td>\n",
       "    </tr>\n",
       "    <tr>\n",
       "      <th>10655047</th>\n",
       "      <td>\\t(162541</td>\n",
       "      <td>2329</td>\n",
       "      <td>9</td>\n",
       "      <td>FROM_UNIXTIME(1240950831)),</td>\n",
       "    </tr>\n",
       "    <tr>\n",
       "      <th>10655048</th>\n",
       "      <td>\\t(162541</td>\n",
       "      <td>2352</td>\n",
       "      <td>5</td>\n",
       "      <td>FROM_UNIXTIME(1240952298)),</td>\n",
       "    </tr>\n",
       "    <tr>\n",
       "      <th>10655049</th>\n",
       "      <td>\\t(162541</td>\n",
       "      <td>2396</td>\n",
       "      <td>8</td>\n",
       "      <td>FROM_UNIXTIME(1240952712)),</td>\n",
       "    </tr>\n",
       "    <tr>\n",
       "      <th>10655050</th>\n",
       "      <td>\\t(162541</td>\n",
       "      <td>2407</td>\n",
       "      <td>6</td>\n",
       "      <td>FROM_UNIXTIME(1240946787)),</td>\n",
       "    </tr>\n",
       "  </tbody>\n",
       "</table>\n",
       "</div>"
      ],
      "text/plain": [
       "             userId movieId rating                    timestamp\n",
       "index                                                          \n",
       "10655046  \\t(162541    2324      9  FROM_UNIXTIME(1240953595)),\n",
       "10655047  \\t(162541    2329      9  FROM_UNIXTIME(1240950831)),\n",
       "10655048  \\t(162541    2352      5  FROM_UNIXTIME(1240952298)),\n",
       "10655049  \\t(162541    2396      8  FROM_UNIXTIME(1240952712)),\n",
       "10655050  \\t(162541    2407      6  FROM_UNIXTIME(1240946787)),"
      ]
     },
     "execution_count": 112,
     "metadata": {},
     "output_type": "execute_result"
    }
   ],
   "source": [
    "user_rating.tail()"
   ]
  },
  {
   "cell_type": "code",
   "execution_count": 113,
   "metadata": {},
   "outputs": [],
   "source": [
    "# i = 0\n",
    "\n",
    "# while i < 11:\n",
    "#     try:\n",
    "#         print(i)\n",
    "#         idx = i * 100000\n",
    "#         user_rating.iloc[idx:idx+100000].to_csv(f'../insert2nd/user_rating/user_rating_{i + 1}.csv', index=False, quotechar=' ')\n",
    "#         i += 1\n",
    "        \n",
    "#     except Exception as e:\n",
    "#         print(e)\n",
    "#         break"
   ]
  },
  {
   "cell_type": "markdown",
   "metadata": {},
   "source": [
    "# User_movie"
   ]
  }
 ],
 "metadata": {
  "kernelspec": {
   "display_name": "Python 3",
   "language": "python",
   "name": "python3"
  },
  "language_info": {
   "codemirror_mode": {
    "name": "ipython",
    "version": 3
   },
   "file_extension": ".py",
   "mimetype": "text/x-python",
   "name": "python",
   "nbconvert_exporter": "python",
   "pygments_lexer": "ipython3",
   "version": "3.11.5"
  }
 },
 "nbformat": 4,
 "nbformat_minor": 2
}
